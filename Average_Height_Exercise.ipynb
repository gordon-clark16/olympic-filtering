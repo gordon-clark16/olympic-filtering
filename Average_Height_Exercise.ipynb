{
  "nbformat": 4,
  "nbformat_minor": 0,
  "metadata": {
    "colab": {
      "name": "Average_Height_Exercise.ipynb",
      "provenance": [],
      "authorship_tag": "ABX9TyPvPr0xl3KPB1IbxmarYaNz"
    },
    "kernelspec": {
      "name": "python3",
      "display_name": "Python 3"
    },
    "language_info": {
      "name": "python"
    }
  },
  "cells": [
    {
      "cell_type": "code",
      "metadata": {
        "colab": {
          "base_uri": "https://localhost:8080/"
        },
        "id": "ciSob7tnSirs",
        "outputId": "d565fea2-ca45-4cb2-f12d-dfdd32e41557"
      },
      "source": [
        "from google.colab import drive\n",
        "drive.mount('/content/drive')"
      ],
      "execution_count": null,
      "outputs": [
        {
          "output_type": "stream",
          "name": "stdout",
          "text": [
            "Mounted at /content/drive\n"
          ]
        }
      ]
    },
    {
      "cell_type": "code",
      "metadata": {
        "id": "pwd59nCjTd2W"
      },
      "source": [
        "import pandas as pd"
      ],
      "execution_count": null,
      "outputs": []
    },
    {
      "cell_type": "code",
      "metadata": {
        "colab": {
          "base_uri": "https://localhost:8080/",
          "height": 559
        },
        "id": "cuS9Mj6xT1yB",
        "outputId": "374e8350-30eb-40d6-a093-dd6778f0a388"
      },
      "source": [
        "olympic_data = '/content/drive/MyDrive/Coding Dojo/Raw Data/athleteEventsNoPersonal.csv'\n",
        "olympic_df = pd.read_csv(olympic_data)\n",
        "olympic_df.head()"
      ],
      "execution_count": null,
      "outputs": [
        {
          "output_type": "execute_result",
          "data": {
            "text/html": [
              "<div>\n",
              "<style scoped>\n",
              "    .dataframe tbody tr th:only-of-type {\n",
              "        vertical-align: middle;\n",
              "    }\n",
              "\n",
              "    .dataframe tbody tr th {\n",
              "        vertical-align: top;\n",
              "    }\n",
              "\n",
              "    .dataframe thead th {\n",
              "        text-align: right;\n",
              "    }\n",
              "</style>\n",
              "<table border=\"1\" class=\"dataframe\">\n",
              "  <thead>\n",
              "    <tr style=\"text-align: right;\">\n",
              "      <th></th>\n",
              "      <th>ID</th>\n",
              "      <th>Age</th>\n",
              "      <th>Height</th>\n",
              "      <th>Team</th>\n",
              "      <th>NOC</th>\n",
              "      <th>Games</th>\n",
              "      <th>Year</th>\n",
              "      <th>Season</th>\n",
              "      <th>City</th>\n",
              "      <th>Sport</th>\n",
              "      <th>Event</th>\n",
              "      <th>Medal</th>\n",
              "    </tr>\n",
              "  </thead>\n",
              "  <tbody>\n",
              "    <tr>\n",
              "      <th>0</th>\n",
              "      <td>5</td>\n",
              "      <td>21.0</td>\n",
              "      <td>185.0</td>\n",
              "      <td>Netherlands</td>\n",
              "      <td>NED</td>\n",
              "      <td>1988 Winter</td>\n",
              "      <td>1988</td>\n",
              "      <td>Winter</td>\n",
              "      <td>Calgary</td>\n",
              "      <td>Speed Skating</td>\n",
              "      <td>Speed Skating Women's 500 metres</td>\n",
              "      <td>NaN</td>\n",
              "    </tr>\n",
              "    <tr>\n",
              "      <th>1</th>\n",
              "      <td>5</td>\n",
              "      <td>21.0</td>\n",
              "      <td>185.0</td>\n",
              "      <td>Netherlands</td>\n",
              "      <td>NED</td>\n",
              "      <td>1988 Winter</td>\n",
              "      <td>1988</td>\n",
              "      <td>Winter</td>\n",
              "      <td>Calgary</td>\n",
              "      <td>Speed Skating</td>\n",
              "      <td>Speed Skating Women's 1,000 metres</td>\n",
              "      <td>NaN</td>\n",
              "    </tr>\n",
              "    <tr>\n",
              "      <th>2</th>\n",
              "      <td>5</td>\n",
              "      <td>25.0</td>\n",
              "      <td>185.0</td>\n",
              "      <td>Netherlands</td>\n",
              "      <td>NED</td>\n",
              "      <td>1992 Winter</td>\n",
              "      <td>1992</td>\n",
              "      <td>Winter</td>\n",
              "      <td>Albertville</td>\n",
              "      <td>Speed Skating</td>\n",
              "      <td>Speed Skating Women's 500 metres</td>\n",
              "      <td>NaN</td>\n",
              "    </tr>\n",
              "    <tr>\n",
              "      <th>3</th>\n",
              "      <td>5</td>\n",
              "      <td>25.0</td>\n",
              "      <td>185.0</td>\n",
              "      <td>Netherlands</td>\n",
              "      <td>NED</td>\n",
              "      <td>1992 Winter</td>\n",
              "      <td>1992</td>\n",
              "      <td>Winter</td>\n",
              "      <td>Albertville</td>\n",
              "      <td>Speed Skating</td>\n",
              "      <td>Speed Skating Women's 1,000 metres</td>\n",
              "      <td>NaN</td>\n",
              "    </tr>\n",
              "    <tr>\n",
              "      <th>4</th>\n",
              "      <td>5</td>\n",
              "      <td>27.0</td>\n",
              "      <td>185.0</td>\n",
              "      <td>Netherlands</td>\n",
              "      <td>NED</td>\n",
              "      <td>1994 Winter</td>\n",
              "      <td>1994</td>\n",
              "      <td>Winter</td>\n",
              "      <td>Lillehammer</td>\n",
              "      <td>Speed Skating</td>\n",
              "      <td>Speed Skating Women's 500 metres</td>\n",
              "      <td>NaN</td>\n",
              "    </tr>\n",
              "  </tbody>\n",
              "</table>\n",
              "</div>"
            ],
            "text/plain": [
              "   ID   Age  Height  ...          Sport                               Event Medal\n",
              "0   5  21.0   185.0  ...  Speed Skating    Speed Skating Women's 500 metres   NaN\n",
              "1   5  21.0   185.0  ...  Speed Skating  Speed Skating Women's 1,000 metres   NaN\n",
              "2   5  25.0   185.0  ...  Speed Skating    Speed Skating Women's 500 metres   NaN\n",
              "3   5  25.0   185.0  ...  Speed Skating  Speed Skating Women's 1,000 metres   NaN\n",
              "4   5  27.0   185.0  ...  Speed Skating    Speed Skating Women's 500 metres   NaN\n",
              "\n",
              "[5 rows x 12 columns]"
            ]
          },
          "metadata": {},
          "execution_count": 3
        }
      ]
    },
    {
      "cell_type": "code",
      "metadata": {
        "colab": {
          "base_uri": "https://localhost:8080/"
        },
        "id": "ZXgY6XnqUWUU",
        "outputId": "9e7c5009-5ef0-457d-ebb2-af56cd7b8fe1"
      },
      "source": [
        "# How many rows?\n",
        "# How many columns?\n",
        "olympic_df.shape"
      ],
      "execution_count": null,
      "outputs": [
        {
          "output_type": "execute_result",
          "data": {
            "text/plain": [
              "(40616, 12)"
            ]
          },
          "metadata": {},
          "execution_count": 4
        }
      ]
    },
    {
      "cell_type": "code",
      "metadata": {
        "colab": {
          "base_uri": "https://localhost:8080/"
        },
        "id": "Z96KcbScUrhf",
        "outputId": "98fdde3f-7f40-42c0-ee38-1265aea8945b"
      },
      "source": [
        "# Which columns have missing values?\n",
        "# Why do you think there are so many null values in the Medals column?\n",
        "olympic_df.isnull().sum()"
      ],
      "execution_count": null,
      "outputs": [
        {
          "output_type": "execute_result",
          "data": {
            "text/plain": [
              "ID            0\n",
              "Age        1473\n",
              "Height     9001\n",
              "Team          0\n",
              "NOC           0\n",
              "Games         0\n",
              "Year          0\n",
              "Season        0\n",
              "City          0\n",
              "Sport         0\n",
              "Event         0\n",
              "Medal     34699\n",
              "dtype: int64"
            ]
          },
          "metadata": {},
          "execution_count": 5
        }
      ]
    },
    {
      "cell_type": "markdown",
      "metadata": {
        "id": "QsfDLnAUVcCJ"
      },
      "source": [
        "There are many null values in the Medals column because not every athelete medalled in every event."
      ]
    },
    {
      "cell_type": "code",
      "metadata": {
        "colab": {
          "base_uri": "https://localhost:8080/"
        },
        "id": "Mz9DOqfZVByI",
        "outputId": "8a1b79f5-74c9-424b-b2b6-aaabc6d4431e"
      },
      "source": [
        "# How many entries correspond to the city of London?\n",
        "olympic_df['City'].value_counts()"
      ],
      "execution_count": null,
      "outputs": [
        {
          "output_type": "execute_result",
          "data": {
            "text/plain": [
              "London                    3370\n",
              "Athina                    2325\n",
              "Beijing                   2056\n",
              "Sydney                    2049\n",
              "Rio de Janeiro            2037\n",
              "Atlanta                   2037\n",
              "Barcelona                 1973\n",
              "Los Angeles               1864\n",
              "Seoul                     1852\n",
              "Munich                    1525\n",
              "Helsinki                  1305\n",
              "Roma                      1259\n",
              "Montreal                  1253\n",
              "Mexico City               1146\n",
              "Moskva                    1116\n",
              "Tokyo                     1087\n",
              "Paris                     1064\n",
              "Berlin                     907\n",
              "Sochi                      787\n",
              "Amsterdam                  757\n",
              "Torino                     687\n",
              "Vancouver                  673\n",
              "Melbourne                  670\n",
              "Antwerpen                  645\n",
              "Salt Lake City             639\n",
              "Stockholm                  600\n",
              "Nagano                     586\n",
              "Albertville                545\n",
              "Lillehammer                541\n",
              "Innsbruck                  504\n",
              "Calgary                    393\n",
              "Sarajevo                   331\n",
              "Lake Placid                300\n",
              "Grenoble                   291\n",
              "Sankt Moritz               248\n",
              "Sapporo                    226\n",
              "Cortina d'Ampezzo          209\n",
              "Oslo                       198\n",
              "St. Louis                  184\n",
              "Squaw Valley               162\n",
              "Garmisch-Partenkirchen     136\n",
              "Chamonix                    79\n",
              "Name: City, dtype: int64"
            ]
          },
          "metadata": {},
          "execution_count": 6
        }
      ]
    },
    {
      "cell_type": "markdown",
      "metadata": {
        "id": "N0ADzGvhWyu0"
      },
      "source": [
        "3370 entries correspond to the city of London."
      ]
    },
    {
      "cell_type": "code",
      "metadata": {
        "colab": {
          "base_uri": "https://localhost:8080/"
        },
        "id": "tcBHCZCfWuVy",
        "outputId": "8113881a-2434-4340-bed5-346d1999dafc"
      },
      "source": [
        "# What age is the youngest athlete in our sample data?\n",
        "olympic_df['Age'].min()"
      ],
      "execution_count": null,
      "outputs": [
        {
          "output_type": "execute_result",
          "data": {
            "text/plain": [
              "11.0"
            ]
          },
          "metadata": {},
          "execution_count": 7
        }
      ]
    },
    {
      "cell_type": "code",
      "metadata": {
        "colab": {
          "base_uri": "https://localhost:8080/",
          "height": 727
        },
        "id": "6Jw8oW-EXP1I",
        "outputId": "e252e5bd-d562-4009-b2bb-938a49012ccd"
      },
      "source": [
        "# How many athletes who participated in the sport \"Tug-of-War\" were from\n",
        "# Team \"Sweden\" in our sample dataset?\n",
        "sport_filter = olympic_df['Sport'] == 'Tug-Of-War'\n",
        "team_filter = olympic_df['Team'] == 'Sweden'\n",
        "tug_df = olympic_df.loc[sport_filter & team_filter, :]\n",
        "tug_df.head()"
      ],
      "execution_count": null,
      "outputs": [
        {
          "output_type": "execute_result",
          "data": {
            "text/html": [
              "<div>\n",
              "<style scoped>\n",
              "    .dataframe tbody tr th:only-of-type {\n",
              "        vertical-align: middle;\n",
              "    }\n",
              "\n",
              "    .dataframe tbody tr th {\n",
              "        vertical-align: top;\n",
              "    }\n",
              "\n",
              "    .dataframe thead th {\n",
              "        text-align: right;\n",
              "    }\n",
              "</style>\n",
              "<table border=\"1\" class=\"dataframe\">\n",
              "  <thead>\n",
              "    <tr style=\"text-align: right;\">\n",
              "      <th></th>\n",
              "      <th>ID</th>\n",
              "      <th>Age</th>\n",
              "      <th>Height</th>\n",
              "      <th>Team</th>\n",
              "      <th>NOC</th>\n",
              "      <th>Games</th>\n",
              "      <th>Year</th>\n",
              "      <th>Season</th>\n",
              "      <th>City</th>\n",
              "      <th>Sport</th>\n",
              "      <th>Event</th>\n",
              "      <th>Medal</th>\n",
              "    </tr>\n",
              "  </thead>\n",
              "  <tbody>\n",
              "    <tr>\n",
              "      <th>10023</th>\n",
              "      <td>34205</td>\n",
              "      <td>22.0</td>\n",
              "      <td>NaN</td>\n",
              "      <td>Sweden</td>\n",
              "      <td>SWE</td>\n",
              "      <td>1908 Summer</td>\n",
              "      <td>1908</td>\n",
              "      <td>Summer</td>\n",
              "      <td>London</td>\n",
              "      <td>Tug-Of-War</td>\n",
              "      <td>Tug-Of-War Men's Tug-Of-War</td>\n",
              "      <td>NaN</td>\n",
              "    </tr>\n",
              "    <tr>\n",
              "      <th>12681</th>\n",
              "      <td>43105</td>\n",
              "      <td>23.0</td>\n",
              "      <td>NaN</td>\n",
              "      <td>Sweden</td>\n",
              "      <td>SWE</td>\n",
              "      <td>1906 Summer</td>\n",
              "      <td>1906</td>\n",
              "      <td>Summer</td>\n",
              "      <td>Athina</td>\n",
              "      <td>Tug-Of-War</td>\n",
              "      <td>Tug-Of-War Men's Tug-Of-War</td>\n",
              "      <td>Bronze</td>\n",
              "    </tr>\n",
              "    <tr>\n",
              "      <th>13015</th>\n",
              "      <td>44087</td>\n",
              "      <td>29.0</td>\n",
              "      <td>182.0</td>\n",
              "      <td>Sweden</td>\n",
              "      <td>SWE</td>\n",
              "      <td>1906 Summer</td>\n",
              "      <td>1906</td>\n",
              "      <td>Summer</td>\n",
              "      <td>Athina</td>\n",
              "      <td>Tug-Of-War</td>\n",
              "      <td>Tug-Of-War Men's Tug-Of-War</td>\n",
              "      <td>Bronze</td>\n",
              "    </tr>\n",
              "    <tr>\n",
              "      <th>16250</th>\n",
              "      <td>55169</td>\n",
              "      <td>23.0</td>\n",
              "      <td>NaN</td>\n",
              "      <td>Sweden</td>\n",
              "      <td>SWE</td>\n",
              "      <td>1908 Summer</td>\n",
              "      <td>1908</td>\n",
              "      <td>Summer</td>\n",
              "      <td>London</td>\n",
              "      <td>Tug-Of-War</td>\n",
              "      <td>Tug-Of-War Men's Tug-Of-War</td>\n",
              "      <td>NaN</td>\n",
              "    </tr>\n",
              "    <tr>\n",
              "      <th>19048</th>\n",
              "      <td>64266</td>\n",
              "      <td>21.0</td>\n",
              "      <td>NaN</td>\n",
              "      <td>Sweden</td>\n",
              "      <td>SWE</td>\n",
              "      <td>1908 Summer</td>\n",
              "      <td>1908</td>\n",
              "      <td>Summer</td>\n",
              "      <td>London</td>\n",
              "      <td>Tug-Of-War</td>\n",
              "      <td>Tug-Of-War Men's Tug-Of-War</td>\n",
              "      <td>NaN</td>\n",
              "    </tr>\n",
              "  </tbody>\n",
              "</table>\n",
              "</div>"
            ],
            "text/plain": [
              "          ID   Age  Height  ...       Sport                        Event   Medal\n",
              "10023  34205  22.0     NaN  ...  Tug-Of-War  Tug-Of-War Men's Tug-Of-War     NaN\n",
              "12681  43105  23.0     NaN  ...  Tug-Of-War  Tug-Of-War Men's Tug-Of-War  Bronze\n",
              "13015  44087  29.0   182.0  ...  Tug-Of-War  Tug-Of-War Men's Tug-Of-War  Bronze\n",
              "16250  55169  23.0     NaN  ...  Tug-Of-War  Tug-Of-War Men's Tug-Of-War     NaN\n",
              "19048  64266  21.0     NaN  ...  Tug-Of-War  Tug-Of-War Men's Tug-Of-War     NaN\n",
              "\n",
              "[5 rows x 12 columns]"
            ]
          },
          "metadata": {},
          "execution_count": 8
        }
      ]
    },
    {
      "cell_type": "code",
      "metadata": {
        "colab": {
          "base_uri": "https://localhost:8080/"
        },
        "id": "eEjWe21DbcQz",
        "outputId": "cd9e7d0f-03da-44cc-8134-f231e9d86821"
      },
      "source": [
        "tug_df['ID'].value_counts()"
      ],
      "execution_count": null,
      "outputs": [
        {
          "output_type": "execute_result",
          "data": {
            "text/plain": [
              "44087    1\n",
              "34205    1\n",
              "68647    1\n",
              "64266    1\n",
              "55169    1\n",
              "43105    1\n",
              "Name: ID, dtype: int64"
            ]
          },
          "metadata": {},
          "execution_count": 9
        }
      ]
    },
    {
      "cell_type": "markdown",
      "metadata": {
        "id": "O6qTxrkuclhm"
      },
      "source": [
        "There are 6 athletes who participated in Tug-of-War representing Sweden in our dataset."
      ]
    },
    {
      "cell_type": "code",
      "metadata": {
        "colab": {
          "base_uri": "https://localhost:8080/"
        },
        "id": "LFHMOiGwcgih",
        "outputId": "318b9d02-23e3-4794-92b5-3b69a7195f6e"
      },
      "source": [
        "# How many Gold Medals were awarded to athletes who were over 40 years old?\n",
        "olympic_df['Medal'].value_counts()"
      ],
      "execution_count": null,
      "outputs": [
        {
          "output_type": "execute_result",
          "data": {
            "text/plain": [
              "Gold      2009\n",
              "Bronze    1994\n",
              "Silver    1914\n",
              "Name: Medal, dtype: int64"
            ]
          },
          "metadata": {},
          "execution_count": 10
        }
      ]
    },
    {
      "cell_type": "code",
      "metadata": {
        "colab": {
          "base_uri": "https://localhost:8080/"
        },
        "id": "bO9v_ggMdhF_",
        "outputId": "07d2c17c-9ba6-4cec-d5d9-799a6e55c87f"
      },
      "source": [
        "medal_filter = olympic_df['Medal'] == 'Gold'\n",
        "age_filter = olympic_df['Age'] > 40\n",
        "gold_df = olympic_df.loc[medal_filter & age_filter, :]\n",
        "gold_df.shape"
      ],
      "execution_count": null,
      "outputs": [
        {
          "output_type": "execute_result",
          "data": {
            "text/plain": [
              "(66, 12)"
            ]
          },
          "metadata": {},
          "execution_count": 11
        }
      ]
    },
    {
      "cell_type": "markdown",
      "metadata": {
        "id": "aPcrAg_TfBXJ"
      },
      "source": [
        "There are 66 Gold medals awarded to athletes over 40 in our sample dataset."
      ]
    },
    {
      "cell_type": "code",
      "metadata": {
        "colab": {
          "base_uri": "https://localhost:8080/"
        },
        "id": "7Qurin1Se5el",
        "outputId": "d27c667c-3b9f-4a99-edde-7b4c69862236"
      },
      "source": [
        "# Determine the average height of all rows included.\n",
        "olympic_df['Height'].mean()"
      ],
      "execution_count": null,
      "outputs": [
        {
          "output_type": "execute_result",
          "data": {
            "text/plain": [
              "175.3811165585956"
            ]
          },
          "metadata": {},
          "execution_count": 12
        }
      ]
    },
    {
      "cell_type": "markdown",
      "metadata": {
        "id": "rRoWDb6efliO"
      },
      "source": [
        "The average height of all rows is 175.38 cm."
      ]
    },
    {
      "cell_type": "code",
      "metadata": {
        "colab": {
          "base_uri": "https://localhost:8080/",
          "height": 447
        },
        "id": "4cq5ynDffZvk",
        "outputId": "ce5cacb3-75f2-488e-de36-08e771a3f4c8"
      },
      "source": [
        "# Determine the average height of all rows included, but grouped by Event.\n",
        "olympic_df.groupby(['Event'])[['Height']].mean()"
      ],
      "execution_count": null,
      "outputs": [
        {
          "output_type": "execute_result",
          "data": {
            "text/html": [
              "<div>\n",
              "<style scoped>\n",
              "    .dataframe tbody tr th:only-of-type {\n",
              "        vertical-align: middle;\n",
              "    }\n",
              "\n",
              "    .dataframe tbody tr th {\n",
              "        vertical-align: top;\n",
              "    }\n",
              "\n",
              "    .dataframe thead th {\n",
              "        text-align: right;\n",
              "    }\n",
              "</style>\n",
              "<table border=\"1\" class=\"dataframe\">\n",
              "  <thead>\n",
              "    <tr style=\"text-align: right;\">\n",
              "      <th></th>\n",
              "      <th>Height</th>\n",
              "    </tr>\n",
              "    <tr>\n",
              "      <th>Event</th>\n",
              "      <th></th>\n",
              "    </tr>\n",
              "  </thead>\n",
              "  <tbody>\n",
              "    <tr>\n",
              "      <th>Alpine Skiing Men's Combined</th>\n",
              "      <td>178.547170</td>\n",
              "    </tr>\n",
              "    <tr>\n",
              "      <th>Alpine Skiing Men's Downhill</th>\n",
              "      <td>178.211679</td>\n",
              "    </tr>\n",
              "    <tr>\n",
              "      <th>Alpine Skiing Men's Giant Slalom</th>\n",
              "      <td>176.739394</td>\n",
              "    </tr>\n",
              "    <tr>\n",
              "      <th>Alpine Skiing Men's Slalom</th>\n",
              "      <td>176.482143</td>\n",
              "    </tr>\n",
              "    <tr>\n",
              "      <th>Alpine Skiing Men's Super G</th>\n",
              "      <td>179.850575</td>\n",
              "    </tr>\n",
              "    <tr>\n",
              "      <th>...</th>\n",
              "      <td>...</td>\n",
              "    </tr>\n",
              "    <tr>\n",
              "      <th>Wrestling Women's Flyweight, Freestyle</th>\n",
              "      <td>158.100000</td>\n",
              "    </tr>\n",
              "    <tr>\n",
              "      <th>Wrestling Women's Heavyweight, Freestyle</th>\n",
              "      <td>173.444444</td>\n",
              "    </tr>\n",
              "    <tr>\n",
              "      <th>Wrestling Women's Light-Heavyweight, Freestyle</th>\n",
              "      <td>170.000000</td>\n",
              "    </tr>\n",
              "    <tr>\n",
              "      <th>Wrestling Women's Lightweight, Freestyle</th>\n",
              "      <td>162.666667</td>\n",
              "    </tr>\n",
              "    <tr>\n",
              "      <th>Wrestling Women's Middleweight, Freestyle</th>\n",
              "      <td>164.533333</td>\n",
              "    </tr>\n",
              "  </tbody>\n",
              "</table>\n",
              "<p>726 rows × 1 columns</p>\n",
              "</div>"
            ],
            "text/plain": [
              "                                                    Height\n",
              "Event                                                     \n",
              "Alpine Skiing Men's Combined                    178.547170\n",
              "Alpine Skiing Men's Downhill                    178.211679\n",
              "Alpine Skiing Men's Giant Slalom                176.739394\n",
              "Alpine Skiing Men's Slalom                      176.482143\n",
              "Alpine Skiing Men's Super G                     179.850575\n",
              "...                                                    ...\n",
              "Wrestling Women's Flyweight, Freestyle          158.100000\n",
              "Wrestling Women's Heavyweight, Freestyle        173.444444\n",
              "Wrestling Women's Light-Heavyweight, Freestyle  170.000000\n",
              "Wrestling Women's Lightweight, Freestyle        162.666667\n",
              "Wrestling Women's Middleweight, Freestyle       164.533333\n",
              "\n",
              "[726 rows x 1 columns]"
            ]
          },
          "metadata": {},
          "execution_count": 13
        }
      ]
    },
    {
      "cell_type": "code",
      "metadata": {
        "colab": {
          "base_uri": "https://localhost:8080/",
          "height": 492
        },
        "id": "Np8tqLMBgTLP",
        "outputId": "0a5f270c-bd48-47ba-f25b-8bd0c7888b68"
      },
      "source": [
        "# BONUS: determine the average height of all athletes,\n",
        "# without including duplicates\n",
        "unique_athlete = olympic_df.drop_duplicates(subset = 'ID', keep = 'first')\n",
        "unique_athlete.head()"
      ],
      "execution_count": null,
      "outputs": [
        {
          "output_type": "execute_result",
          "data": {
            "text/html": [
              "<div>\n",
              "<style scoped>\n",
              "    .dataframe tbody tr th:only-of-type {\n",
              "        vertical-align: middle;\n",
              "    }\n",
              "\n",
              "    .dataframe tbody tr th {\n",
              "        vertical-align: top;\n",
              "    }\n",
              "\n",
              "    .dataframe thead th {\n",
              "        text-align: right;\n",
              "    }\n",
              "</style>\n",
              "<table border=\"1\" class=\"dataframe\">\n",
              "  <thead>\n",
              "    <tr style=\"text-align: right;\">\n",
              "      <th></th>\n",
              "      <th>ID</th>\n",
              "      <th>Age</th>\n",
              "      <th>Height</th>\n",
              "      <th>Team</th>\n",
              "      <th>NOC</th>\n",
              "      <th>Games</th>\n",
              "      <th>Year</th>\n",
              "      <th>Season</th>\n",
              "      <th>City</th>\n",
              "      <th>Sport</th>\n",
              "      <th>Event</th>\n",
              "      <th>Medal</th>\n",
              "    </tr>\n",
              "  </thead>\n",
              "  <tbody>\n",
              "    <tr>\n",
              "      <th>0</th>\n",
              "      <td>5</td>\n",
              "      <td>21.0</td>\n",
              "      <td>185.0</td>\n",
              "      <td>Netherlands</td>\n",
              "      <td>NED</td>\n",
              "      <td>1988 Winter</td>\n",
              "      <td>1988</td>\n",
              "      <td>Winter</td>\n",
              "      <td>Calgary</td>\n",
              "      <td>Speed Skating</td>\n",
              "      <td>Speed Skating Women's 500 metres</td>\n",
              "      <td>NaN</td>\n",
              "    </tr>\n",
              "    <tr>\n",
              "      <th>6</th>\n",
              "      <td>6</td>\n",
              "      <td>31.0</td>\n",
              "      <td>188.0</td>\n",
              "      <td>United States</td>\n",
              "      <td>USA</td>\n",
              "      <td>1992 Winter</td>\n",
              "      <td>1992</td>\n",
              "      <td>Winter</td>\n",
              "      <td>Albertville</td>\n",
              "      <td>Cross Country Skiing</td>\n",
              "      <td>Cross Country Skiing Men's 10 kilometres</td>\n",
              "      <td>NaN</td>\n",
              "    </tr>\n",
              "    <tr>\n",
              "      <th>14</th>\n",
              "      <td>12</td>\n",
              "      <td>31.0</td>\n",
              "      <td>172.0</td>\n",
              "      <td>Finland</td>\n",
              "      <td>FIN</td>\n",
              "      <td>2000 Summer</td>\n",
              "      <td>2000</td>\n",
              "      <td>Summer</td>\n",
              "      <td>Sydney</td>\n",
              "      <td>Badminton</td>\n",
              "      <td>Badminton Men's Singles</td>\n",
              "      <td>NaN</td>\n",
              "    </tr>\n",
              "    <tr>\n",
              "      <th>15</th>\n",
              "      <td>30</td>\n",
              "      <td>26.0</td>\n",
              "      <td>189.0</td>\n",
              "      <td>Netherlands</td>\n",
              "      <td>NED</td>\n",
              "      <td>1996 Summer</td>\n",
              "      <td>1996</td>\n",
              "      <td>Summer</td>\n",
              "      <td>Atlanta</td>\n",
              "      <td>Rowing</td>\n",
              "      <td>Rowing Men's Lightweight Double Sculls</td>\n",
              "      <td>Silver</td>\n",
              "    </tr>\n",
              "    <tr>\n",
              "      <th>17</th>\n",
              "      <td>36</td>\n",
              "      <td>21.0</td>\n",
              "      <td>194.0</td>\n",
              "      <td>Netherlands</td>\n",
              "      <td>NED</td>\n",
              "      <td>1996 Summer</td>\n",
              "      <td>1996</td>\n",
              "      <td>Summer</td>\n",
              "      <td>Atlanta</td>\n",
              "      <td>Swimming</td>\n",
              "      <td>Swimming Men's 100 metres Butterfly</td>\n",
              "      <td>NaN</td>\n",
              "    </tr>\n",
              "  </tbody>\n",
              "</table>\n",
              "</div>"
            ],
            "text/plain": [
              "    ID   Age  ...                                     Event   Medal\n",
              "0    5  21.0  ...          Speed Skating Women's 500 metres     NaN\n",
              "6    6  31.0  ...  Cross Country Skiing Men's 10 kilometres     NaN\n",
              "14  12  31.0  ...                   Badminton Men's Singles     NaN\n",
              "15  30  26.0  ...    Rowing Men's Lightweight Double Sculls  Silver\n",
              "17  36  21.0  ...       Swimming Men's 100 metres Butterfly     NaN\n",
              "\n",
              "[5 rows x 12 columns]"
            ]
          },
          "metadata": {},
          "execution_count": 14
        }
      ]
    },
    {
      "cell_type": "code",
      "metadata": {
        "colab": {
          "base_uri": "https://localhost:8080/"
        },
        "id": "JbZLnl9Mh5EU",
        "outputId": "2bf3a418-d02b-404a-8fcb-2e54df1211d1"
      },
      "source": [
        "unique_athlete['Height'].mean()"
      ],
      "execution_count": null,
      "outputs": [
        {
          "output_type": "execute_result",
          "data": {
            "text/plain": [
              "176.31818479042698"
            ]
          },
          "metadata": {},
          "execution_count": 15
        }
      ]
    },
    {
      "cell_type": "code",
      "metadata": {
        "id": "iTD1vHhPiAYQ",
        "colab": {
          "base_uri": "https://localhost:8080/",
          "height": 447
        },
        "outputId": "b47ca773-b7e0-4bf1-8713-8102ba0d9c12"
      },
      "source": [
        "unique_athlete.groupby(['Event'])[['Height']].mean()"
      ],
      "execution_count": null,
      "outputs": [
        {
          "output_type": "execute_result",
          "data": {
            "text/html": [
              "<div>\n",
              "<style scoped>\n",
              "    .dataframe tbody tr th:only-of-type {\n",
              "        vertical-align: middle;\n",
              "    }\n",
              "\n",
              "    .dataframe tbody tr th {\n",
              "        vertical-align: top;\n",
              "    }\n",
              "\n",
              "    .dataframe thead th {\n",
              "        text-align: right;\n",
              "    }\n",
              "</style>\n",
              "<table border=\"1\" class=\"dataframe\">\n",
              "  <thead>\n",
              "    <tr style=\"text-align: right;\">\n",
              "      <th></th>\n",
              "      <th>Height</th>\n",
              "    </tr>\n",
              "    <tr>\n",
              "      <th>Event</th>\n",
              "      <th></th>\n",
              "    </tr>\n",
              "  </thead>\n",
              "  <tbody>\n",
              "    <tr>\n",
              "      <th>Alpine Skiing Men's Combined</th>\n",
              "      <td>178.800000</td>\n",
              "    </tr>\n",
              "    <tr>\n",
              "      <th>Alpine Skiing Men's Downhill</th>\n",
              "      <td>178.177215</td>\n",
              "    </tr>\n",
              "    <tr>\n",
              "      <th>Alpine Skiing Men's Giant Slalom</th>\n",
              "      <td>176.379310</td>\n",
              "    </tr>\n",
              "    <tr>\n",
              "      <th>Alpine Skiing Men's Slalom</th>\n",
              "      <td>175.583333</td>\n",
              "    </tr>\n",
              "    <tr>\n",
              "      <th>Alpine Skiing Men's Super G</th>\n",
              "      <td>178.933333</td>\n",
              "    </tr>\n",
              "    <tr>\n",
              "      <th>...</th>\n",
              "      <td>...</td>\n",
              "    </tr>\n",
              "    <tr>\n",
              "      <th>Wrestling Women's Flyweight, Freestyle</th>\n",
              "      <td>158.000000</td>\n",
              "    </tr>\n",
              "    <tr>\n",
              "      <th>Wrestling Women's Heavyweight, Freestyle</th>\n",
              "      <td>172.000000</td>\n",
              "    </tr>\n",
              "    <tr>\n",
              "      <th>Wrestling Women's Light-Heavyweight, Freestyle</th>\n",
              "      <td>170.000000</td>\n",
              "    </tr>\n",
              "    <tr>\n",
              "      <th>Wrestling Women's Lightweight, Freestyle</th>\n",
              "      <td>161.700000</td>\n",
              "    </tr>\n",
              "    <tr>\n",
              "      <th>Wrestling Women's Middleweight, Freestyle</th>\n",
              "      <td>165.100000</td>\n",
              "    </tr>\n",
              "  </tbody>\n",
              "</table>\n",
              "<p>609 rows × 1 columns</p>\n",
              "</div>"
            ],
            "text/plain": [
              "                                                    Height\n",
              "Event                                                     \n",
              "Alpine Skiing Men's Combined                    178.800000\n",
              "Alpine Skiing Men's Downhill                    178.177215\n",
              "Alpine Skiing Men's Giant Slalom                176.379310\n",
              "Alpine Skiing Men's Slalom                      175.583333\n",
              "Alpine Skiing Men's Super G                     178.933333\n",
              "...                                                    ...\n",
              "Wrestling Women's Flyweight, Freestyle          158.000000\n",
              "Wrestling Women's Heavyweight, Freestyle        172.000000\n",
              "Wrestling Women's Light-Heavyweight, Freestyle  170.000000\n",
              "Wrestling Women's Lightweight, Freestyle        161.700000\n",
              "Wrestling Women's Middleweight, Freestyle       165.100000\n",
              "\n",
              "[609 rows x 1 columns]"
            ]
          },
          "metadata": {},
          "execution_count": 19
        }
      ]
    },
    {
      "cell_type": "code",
      "metadata": {
        "id": "xZJF70Tg2geQ"
      },
      "source": [
        ""
      ],
      "execution_count": null,
      "outputs": []
    }
  ]
}